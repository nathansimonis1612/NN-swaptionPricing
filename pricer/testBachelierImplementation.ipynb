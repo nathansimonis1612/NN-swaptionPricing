{
 "cells": [
  {
   "cell_type": "code",
   "execution_count": 2,
   "metadata": {},
   "outputs": [],
   "source": [
    "import numpy as np\n",
    "from curve import Curve\n",
    "from hw1f import hullWhite\n",
    "from swaption import Swaption\n",
    "from bachelier import Bachelier"
   ]
  },
  {
   "cell_type": "code",
   "execution_count": 13,
   "metadata": {},
   "outputs": [],
   "source": [
    "datesCurve = [1.94444444e-02, 8.33333333e-02, 2.50000000e-01, 5.00000000e-01,\n",
    "        1.00000000e+00, 3.00000000e+00, 5.00000000e+00, 1.00000000e+01,\n",
    "        1.50000000e+01, 2.00000000e+01, 3.00000000e+01, 5.00000000e+01]\n",
    "ratesCurve = [-0.00427 , -0.00426 , -0.0043  , -0.00443 , -0.00468 , -0.001114,\n",
    "        0.000475,  0.0063  ,  0.01011 ,  0.01177 ,  0.01214 ,  0.011185]\n",
    "\n",
    "curve = Curve(datesCurve, ratesCurve)\n",
    "swpn = Swaption(optMat=20, swapMat=1, swapFreq=0.5, payerOrReceiver=\"payer\")\n",
    "atmRate = swpn.swapRate(curve)"
   ]
  },
  {
   "cell_type": "code",
   "execution_count": 14,
   "metadata": {},
   "outputs": [
    {
     "data": {
      "text/plain": [
       "0.012586380838247509"
      ]
     },
     "execution_count": 14,
     "metadata": {},
     "output_type": "execute_result"
    }
   ],
   "source": [
    "atmRate"
   ]
  },
  {
   "cell_type": "code",
   "execution_count": 15,
   "metadata": {},
   "outputs": [],
   "source": [
    "meanRev = 0.00001\n",
    "sigma = 0.01\n",
    "chgStrike = -0.02\n",
    "hw = hullWhite(a=meanRev, sigma=sigma, curve=curve)\n",
    "b  = Bachelier(curve=curve, swaption=swpn, strike=atmRate+chgStrike)\n",
    "\n",
    "hwPrice = hw.swaptionPrice(swpn, strike=atmRate+chgStrike)\n",
    "bPrice = b.swaptionPrice(sigma)"
   ]
  },
  {
   "cell_type": "code",
   "execution_count": 16,
   "metadata": {},
   "outputs": [
    {
     "name": "stdout",
     "output_type": "stream",
     "text": [
      "HW: 0.023183507037049907 | Bachelier: 0.02316970858579308\n"
     ]
    }
   ],
   "source": [
    "print(\"HW:\",hwPrice,\"| Bachelier:\",bPrice)"
   ]
  },
  {
   "cell_type": "code",
   "execution_count": 17,
   "metadata": {},
   "outputs": [
    {
     "data": {
      "text/plain": [
       "(0.010010916991105713, 0.010000000000000038)"
      ]
     },
     "execution_count": 17,
     "metadata": {},
     "output_type": "execute_result"
    }
   ],
   "source": [
    "b.impliedVolatility(hwPrice), b.impliedVolatility(bPrice)"
   ]
  }
 ],
 "metadata": {
  "kernelspec": {
   "display_name": "Python 3",
   "language": "python",
   "name": "python3"
  },
  "language_info": {
   "codemirror_mode": {
    "name": "ipython",
    "version": 3
   },
   "file_extension": ".py",
   "mimetype": "text/x-python",
   "name": "python",
   "nbconvert_exporter": "python",
   "pygments_lexer": "ipython3",
   "version": "3.8.5"
  }
 },
 "nbformat": 4,
 "nbformat_minor": 4
}
